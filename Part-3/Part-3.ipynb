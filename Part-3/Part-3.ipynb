{
 "cells": [
  {
   "cell_type": "markdown",
   "id": "741f328c",
   "metadata": {},
   "source": [
    "# Part-3 "
   ]
  },
  {
   "cell_type": "markdown",
   "id": "fa78f40c",
   "metadata": {},
   "source": [
    "# Import lib to upload csv and json files"
   ]
  },
  {
   "cell_type": "code",
   "execution_count": 1,
   "id": "2a0b216b",
   "metadata": {},
   "outputs": [],
   "source": [
    "import pandas as pd\n",
    "import json\n",
    "from pandas.io.json import json_normalize"
   ]
  },
  {
   "cell_type": "markdown",
   "id": "0cf2a6ed",
   "metadata": {},
   "source": [
    "# Section 0: to read csv file"
   ]
  },
  {
   "cell_type": "code",
   "execution_count": 2,
   "id": "0f548fe5",
   "metadata": {},
   "outputs": [
    {
     "name": "stdout",
     "output_type": "stream",
     "text": [
      "       series_id          year period         value footnote_codes\n",
      "0      PRS30006011        1995    Q01         2.600            NaN\n",
      "1      PRS30006011        1995    Q02         2.100            NaN\n",
      "2      PRS30006011        1995    Q03         0.900            NaN\n",
      "3      PRS30006011        1995    Q04         0.100            NaN\n",
      "4      PRS30006011        1995    Q05         1.400            NaN\n",
      "...                  ...   ...    ...           ...            ...\n",
      "33634  PRS88003203        2021    Q03       115.147            NaN\n",
      "33635  PRS88003203        2021    Q04       118.715            NaN\n",
      "33636  PRS88003203        2021    Q05       114.729            NaN\n",
      "33637  PRS88003203        2022    Q01       122.739            NaN\n",
      "33638  PRS88003203        2022    Q02       125.064            NaN\n",
      "\n",
      "[33639 rows x 5 columns]\n"
     ]
    }
   ],
   "source": [
    "curr_csv = pd.read_csv('C:\\\\Users\\\\ujjwa\\\\Downloads\\\\Part-3\\\\pr.data.0.Current.csv')\n",
    "print(curr_csv)"
   ]
  },
  {
   "cell_type": "markdown",
   "id": "04f97c1d",
   "metadata": {},
   "source": [
    "# Removig the whitespaces from series_id & value columns"
   ]
  },
  {
   "cell_type": "code",
   "execution_count": 3,
   "id": "acb5f1c8",
   "metadata": {},
   "outputs": [
    {
     "name": "stdout",
     "output_type": "stream",
     "text": [
      "               series_id  year period    value footnote_codes\n",
      "0      PRS30006011        1995    Q01    2.600            NaN\n",
      "1      PRS30006011        1995    Q02    2.100            NaN\n",
      "2      PRS30006011        1995    Q03    0.900            NaN\n",
      "3      PRS30006011        1995    Q04    0.100            NaN\n",
      "4      PRS30006011        1995    Q05    1.400            NaN\n",
      "...                  ...   ...    ...      ...            ...\n",
      "33634  PRS88003203        2021    Q03  115.147            NaN\n",
      "33635  PRS88003203        2021    Q04  118.715            NaN\n",
      "33636  PRS88003203        2021    Q05  114.729            NaN\n",
      "33637  PRS88003203        2022    Q01  122.739            NaN\n",
      "33638  PRS88003203        2022    Q02  125.064            NaN\n",
      "\n",
      "[33639 rows x 5 columns]\n"
     ]
    }
   ],
   "source": [
    "curr_csv.rename(columns = {'series_id        ':'series_id', '       value':'value'}, inplace = True)\n",
    "print(curr_csv)"
   ]
  },
  {
   "cell_type": "markdown",
   "id": "5087463a",
   "metadata": {},
   "source": [
    "# Section 0: to read json file"
   ]
  },
  {
   "cell_type": "code",
   "execution_count": 4,
   "id": "bb1a66f8",
   "metadata": {},
   "outputs": [],
   "source": [
    "with open ('C:\\\\Users\\\\ujjwa\\\\Downloads\\\\Part-3\\\\population.json', ) as file:\n",
    "    data = json.load(file)"
   ]
  },
  {
   "cell_type": "code",
   "execution_count": 5,
   "id": "4d6f8574",
   "metadata": {},
   "outputs": [],
   "source": [
    "# normalizing the json file for reading\n",
    "population_json = pd.json_normalize(data, record_path=['data'])"
   ]
  },
  {
   "cell_type": "code",
   "execution_count": 6,
   "id": "e980b720",
   "metadata": {},
   "outputs": [],
   "source": [
    "# renaming the year column for easy access\n",
    "population_json.rename(columns = {'ID Year':'year'}, inplace = True)"
   ]
  },
  {
   "cell_type": "code",
   "execution_count": 7,
   "id": "63ce368b",
   "metadata": {},
   "outputs": [
    {
     "name": "stdout",
     "output_type": "stream",
     "text": [
      "  ID Nation         Nation  year  Year  Population    Slug Nation\n",
      "0   01000US  United States  2020  2020   326569308  united-states\n",
      "1   01000US  United States  2019  2019   324697795  united-states\n",
      "2   01000US  United States  2018  2018   322903030  united-states\n",
      "3   01000US  United States  2017  2017   321004407  united-states\n",
      "4   01000US  United States  2016  2016   318558162  united-states\n",
      "5   01000US  United States  2015  2015   316515021  united-states\n",
      "6   01000US  United States  2014  2014   314107084  united-states\n",
      "7   01000US  United States  2013  2013   311536594  united-states\n"
     ]
    }
   ],
   "source": [
    "# printing the data of json file\n",
    "print(population_json)"
   ]
  },
  {
   "cell_type": "markdown",
   "id": "1a3432a3",
   "metadata": {},
   "source": [
    "# Section 1: filter the year from 2013 to 2018 inclusive"
   ]
  },
  {
   "cell_type": "code",
   "execution_count": 8,
   "id": "b034dc13",
   "metadata": {},
   "outputs": [],
   "source": [
    "fil_year = (population_json['year'] >= 2013) & (population_json['year'] <= 2018)"
   ]
  },
  {
   "cell_type": "markdown",
   "id": "cdd1a3c6",
   "metadata": {},
   "source": [
    "# Section 1:  generate the mean of the US population across the years [2013, 2018] inclusive"
   ]
  },
  {
   "cell_type": "code",
   "execution_count": 9,
   "id": "41126aab",
   "metadata": {},
   "outputs": [
    {
     "name": "stdout",
     "output_type": "stream",
     "text": [
      "\n",
      " mean of the US population across the years [2013, 2018] inclusive: 317437383.0\n"
     ]
    }
   ],
   "source": [
    "population_mean = population_json.loc[fil_year,'Population'].mean()\n",
    "print(\"\\n mean of the US population across the years [2013, 2018] inclusive:\", population_mean)"
   ]
  },
  {
   "cell_type": "markdown",
   "id": "e87e134b",
   "metadata": {},
   "source": [
    "# Section 1:  generate the standard deviation of the US population across the years [2013, 2018] inclusive"
   ]
  },
  {
   "cell_type": "code",
   "execution_count": 10,
   "id": "38e3d6d9",
   "metadata": {},
   "outputs": [
    {
     "name": "stdout",
     "output_type": "stream",
     "text": [
      "\n",
      " standard deviation of the US population across the years [2013, 2018] inclusive: 4257089.5415293295\n"
     ]
    }
   ],
   "source": [
    "population_stddev = population_json.loc[fil_year,'Population'].std()\n",
    "print(\"\\n standard deviation of the US population across the years [2013, 2018] inclusive:\", population_stddev)"
   ]
  },
  {
   "cell_type": "markdown",
   "id": "22fb4483",
   "metadata": {},
   "source": [
    "# Section 2:  For every series_id, find the best year"
   ]
  },
  {
   "cell_type": "code",
   "execution_count": 11,
   "id": "6e54ce83",
   "metadata": {},
   "outputs": [],
   "source": [
    "# create a new dataframe to groupby series_id & year to get the value\n",
    "ser_yr_df = curr_csv.sort_values(by=['series_id', 'year'], ascending=True)"
   ]
  },
  {
   "cell_type": "code",
   "execution_count": 12,
   "id": "e96a4e64",
   "metadata": {},
   "outputs": [
    {
     "name": "stdout",
     "output_type": "stream",
     "text": [
      "\n",
      " sum of the value for each year\n",
      "              series_id  year    value\n",
      "0     PRS30006011        1995    7.100\n",
      "1     PRS30006011        1996   -0.500\n",
      "2     PRS30006011        1997    4.400\n",
      "3     PRS30006011        1998    4.200\n",
      "4     PRS30006011        1999   -7.700\n",
      "...                 ...   ...      ...\n",
      "7801  PRS88003203        2018  551.651\n",
      "7802  PRS88003203        2019  564.407\n",
      "7803  PRS88003203        2020  563.117\n",
      "7804  PRS88003203        2021  573.658\n",
      "7805  PRS88003203        2022  247.803\n",
      "\n",
      "[7806 rows x 3 columns]\n"
     ]
    }
   ],
   "source": [
    "\"\"\" Part_3-Section_2:  For every series_id, find the best year : \n",
    "      (i)  the year with the max/largest sum of \"value\" for all quarters in that year \"\"\"\n",
    "\n",
    "# sum of the value for each year\n",
    "\n",
    "year_value = ser_yr_df.groupby(['series_id', 'year'], as_index=False)['value'].sum()\n",
    "print('\\n sum of the value for each year')\n",
    "print(year_value)"
   ]
  },
  {
   "cell_type": "code",
   "execution_count": 13,
   "id": "6801078e",
   "metadata": {},
   "outputs": [
    {
     "name": "stdout",
     "output_type": "stream",
     "text": [
      "\n",
      " finding the max value of each series_id by best year \n",
      "              series_id  year    value\n",
      "17    PRS30006011        2012    9.500\n",
      "54    PRS30006012        2021   13.100\n",
      "59    PRS30006013        1998  733.290\n",
      "99    PRS30006021        2010   14.200\n",
      "127   PRS30006022        2010   11.100\n",
      "...                 ...   ...      ...\n",
      "7673  PRS88003192        2002  285.200\n",
      "7720  PRS88003193        2021  620.416\n",
      "7734  PRS88003201        2007   21.700\n",
      "7776  PRS88003202        2021   26.500\n",
      "7804  PRS88003203        2021  573.658\n",
      "\n",
      "[282 rows x 3 columns]\n"
     ]
    }
   ],
   "source": [
    "# finding the max value of each series_id by best year\n",
    "max_Value = year_value.loc[year_value.groupby('series_id')['value'].idxmax()]\n",
    "print('\\n finding the max value of each series_id by best year ')\n",
    "print(max_Value)"
   ]
  },
  {
   "cell_type": "markdown",
   "id": "ba5cd51c",
   "metadata": {},
   "source": [
    "# Final output after reset the index value"
   ]
  },
  {
   "cell_type": "code",
   "execution_count": 14,
   "id": "37d65c0d",
   "metadata": {},
   "outputs": [
    {
     "name": "stdout",
     "output_type": "stream",
     "text": [
      "\n",
      " out put in ascending order\n",
      "             series_id  year    value\n",
      "0    PRS30006011        2012    9.500\n",
      "1    PRS30006012        2021   13.100\n",
      "2    PRS30006013        1998  733.290\n",
      "3    PRS30006021        2010   14.200\n",
      "4    PRS30006022        2010   11.100\n",
      "..                 ...   ...      ...\n",
      "277  PRS88003192        2002  285.200\n",
      "278  PRS88003193        2021  620.416\n",
      "279  PRS88003201        2007   21.700\n",
      "280  PRS88003202        2021   26.500\n",
      "281  PRS88003203        2021  573.658\n",
      "\n",
      "[282 rows x 3 columns]\n"
     ]
    }
   ],
   "source": [
    "# reset the index value\n",
    "max_Value = max_Value.reset_index(drop=True)\n",
    "print(\"\\n out put in ascending order\")\n",
    "print(max_Value)"
   ]
  },
  {
   "cell_type": "markdown",
   "id": "2e584117",
   "metadata": {},
   "source": [
    "# Section 3:  Merge both dataframes of part-1 and part-2"
   ]
  },
  {
   "cell_type": "code",
   "execution_count": 15,
   "id": "32705ebe",
   "metadata": {},
   "outputs": [
    {
     "name": "stdout",
     "output_type": "stream",
     "text": [
      "\n",
      " Merge data of part-1 and part-2\n",
      "              series_id  year period    value footnote_codes ID Nation  \\\n",
      "0     PRS30006011        2013    Q01    1.300            NaN   01000US   \n",
      "1     PRS30006011        2013    Q02    0.200            NaN   01000US   \n",
      "2     PRS30006011        2013    Q03    0.200            NaN   01000US   \n",
      "3     PRS30006011        2013    Q04    0.700            NaN   01000US   \n",
      "4     PRS30006011        2013    Q05    0.600            NaN   01000US   \n",
      "...                 ...   ...    ...      ...            ...       ...   \n",
      "9835  PRS88003203        2020    Q01  115.041            NaN   01000US   \n",
      "9836  PRS88003203        2020    Q02  113.124            NaN   01000US   \n",
      "9837  PRS88003203        2020    Q03  110.307            NaN   01000US   \n",
      "9838  PRS88003203        2020    Q04  112.010            NaN   01000US   \n",
      "9839  PRS88003203        2020    Q05  112.635            NaN   01000US   \n",
      "\n",
      "             Nation  Year  Population    Slug Nation  \n",
      "0     United States  2013   311536594  united-states  \n",
      "1     United States  2013   311536594  united-states  \n",
      "2     United States  2013   311536594  united-states  \n",
      "3     United States  2013   311536594  united-states  \n",
      "4     United States  2013   311536594  united-states  \n",
      "...             ...   ...         ...            ...  \n",
      "9835  United States  2020   326569308  united-states  \n",
      "9836  United States  2020   326569308  united-states  \n",
      "9837  United States  2020   326569308  united-states  \n",
      "9838  United States  2020   326569308  united-states  \n",
      "9839  United States  2020   326569308  united-states  \n",
      "\n",
      "[9840 rows x 10 columns]\n"
     ]
    }
   ],
   "source": [
    "merge_df = curr_csv.merge(population_json, on ='year')\n",
    "print(\"\\n Merge data of part-1 and part-2\")\n",
    "print(merge_df)"
   ]
  },
  {
   "cell_type": "code",
   "execution_count": 16,
   "id": "ca0c6d24",
   "metadata": {},
   "outputs": [],
   "source": [
    "# removing/ trimming the whitespace afte merging the data\n",
    "merge_df['series_id'] = merge_df['series_id'].str.strip()"
   ]
  },
  {
   "cell_type": "code",
   "execution_count": 17,
   "id": "974002cb",
   "metadata": {},
   "outputs": [
    {
     "name": "stdout",
     "output_type": "stream",
     "text": [
      "\n",
      " data with necessary columns\n",
      "        series_id  year period    value  Population\n",
      "0     PRS30006011  2013    Q01    1.300   311536594\n",
      "1     PRS30006011  2013    Q02    0.200   311536594\n",
      "2     PRS30006011  2013    Q03    0.200   311536594\n",
      "3     PRS30006011  2013    Q04    0.700   311536594\n",
      "4     PRS30006011  2013    Q05    0.600   311536594\n",
      "...           ...   ...    ...      ...         ...\n",
      "9835  PRS88003203  2020    Q01  115.041   326569308\n",
      "9836  PRS88003203  2020    Q02  113.124   326569308\n",
      "9837  PRS88003203  2020    Q03  110.307   326569308\n",
      "9838  PRS88003203  2020    Q04  112.010   326569308\n",
      "9839  PRS88003203  2020    Q05  112.635   326569308\n",
      "\n",
      "[9840 rows x 5 columns]\n"
     ]
    }
   ],
   "source": [
    "# drop the optional columns\n",
    "merge_df.drop(['footnote_codes', 'ID Nation', 'Nation', 'Year', 'Slug Nation'], axis=1, inplace=True)\n",
    "print(\"\\n data with necessary columns\")\n",
    "print(merge_df)"
   ]
  },
  {
   "cell_type": "markdown",
   "id": "33df5370",
   "metadata": {},
   "source": [
    "# Filter the value for the given series_id , year , period and population"
   ]
  },
  {
   "cell_type": "code",
   "execution_count": 18,
   "id": "033094f8",
   "metadata": {},
   "outputs": [
    {
     "name": "stdout",
     "output_type": "stream",
     "text": [
      " \n",
      " Output :\n",
      "        series_id  year period  value  Population\n",
      "6185  PRS30006032  2018    Q01    1.7   322903030\n"
     ]
    }
   ],
   "source": [
    "output_df = merge_df.loc[(merge_df['series_id'] == 'PRS30006032') & (merge_df['year'] == 2018) & (merge_df['period'] == 'Q01')]\n",
    "print(\" \\n Output :\")\n",
    "print(output_df)"
   ]
  },
  {
   "cell_type": "markdown",
   "id": "378fd77b",
   "metadata": {},
   "source": [
    "# Reset the index value for final result"
   ]
  },
  {
   "cell_type": "code",
   "execution_count": 19,
   "id": "32d06269",
   "metadata": {},
   "outputs": [
    {
     "name": "stdout",
     "output_type": "stream",
     "text": [
      " \n",
      " final result : \n",
      "     series_id  year period  value  Population\n",
      "0  PRS30006032  2018    Q01    1.7   322903030\n"
     ]
    }
   ],
   "source": [
    "output_df = output_df.reset_index(drop=True)\n",
    "print(\" \\n final result : \")\n",
    "print(output_df)"
   ]
  }
 ],
 "metadata": {
  "kernelspec": {
   "display_name": "Python 3 (ipykernel)",
   "language": "python",
   "name": "python3"
  },
  "language_info": {
   "codemirror_mode": {
    "name": "ipython",
    "version": 3
   },
   "file_extension": ".py",
   "mimetype": "text/x-python",
   "name": "python",
   "nbconvert_exporter": "python",
   "pygments_lexer": "ipython3",
   "version": "3.9.13"
  }
 },
 "nbformat": 4,
 "nbformat_minor": 5
}
